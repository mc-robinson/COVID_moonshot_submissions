{
 "cells": [
  {
   "cell_type": "code",
   "execution_count": 1,
   "metadata": {},
   "outputs": [],
   "source": [
    "import pandas as pd\n",
    "import csv\n",
    "import urllib\n",
    "import json"
   ]
  },
  {
   "cell_type": "code",
   "execution_count": 2,
   "metadata": {},
   "outputs": [],
   "source": [
    "target_url = 'https://fragalysis.diamond.ac.uk/api/targets/?title=Mpro'\n",
    "\n",
    "with urllib.request.urlopen(target_url) as f:\n",
    "            response = json.loads(f.read().decode('utf-8'))"
   ]
  },
  {
   "cell_type": "code",
   "execution_count": 3,
   "metadata": {},
   "outputs": [],
   "source": [
    "metadata_file = response['results'][0]['metadata']"
   ]
  },
  {
   "cell_type": "code",
   "execution_count": 4,
   "metadata": {},
   "outputs": [],
   "source": [
    "mf = metadata_file.replace('http', 'https')"
   ]
  },
  {
   "cell_type": "code",
   "execution_count": 5,
   "metadata": {},
   "outputs": [],
   "source": [
    "meta_response = urllib.request.urlopen(mf)\n",
    "\n",
    "lines = [l.decode('utf-8') for l in meta_response.readlines()]\n",
    "cr = csv.reader(lines)\n",
    "\n",
    "csv_list = [row for row in cr]\n",
    "\n",
    "header = csv_list[0]\n",
    "del csv_list[0]\n",
    "\n",
    "df = pd.DataFrame(csv_list, columns=header)\n",
    "\n",
    "structures_dict = {'SMILES':[], 'CID':[], 'structure_ID':[], 'structure_LINK':[], 'ORIGIN':[]}\n",
    "\n",
    "for rname in df.index:\n",
    "    row = df.loc[rname]\n",
    "    if '-' in row['alternate_name']:\n",
    "        crys_string = row['crystal_name'].split('-')[1].split('_')[0]\n",
    "        structures_dict['SMILES'].append(row['smiles'])\n",
    "        structures_dict['CID'].append(row['alternate_name'])\n",
    "        structures_dict['structure_ID'].append(crys_string)\n",
    "        structures_dict['structure_LINK'].append(f'https://fragalysis.diamond.ac.uk/viewer/react/preview/direct/target/Mpro/mols/{crys_string}/A')\n",
    "        structures_dict['ORIGIN'].append('MOONSHOT') "
   ]
  },
  {
   "cell_type": "code",
   "execution_count": 6,
   "metadata": {},
   "outputs": [],
   "source": [
    "df2 = pd.DataFrame.from_dict(structures_dict)\n",
    "df2.drop_duplicates(inplace=True)\n",
    "df2.to_csv('fragalysis_structures_auto.csv', index=None)"
   ]
  },
  {
   "cell_type": "code",
   "execution_count": null,
   "metadata": {},
   "outputs": [],
   "source": []
  }
 ],
 "metadata": {
  "kernelspec": {
   "display_name": "Python 3",
   "language": "python",
   "name": "python3"
  },
  "language_info": {
   "codemirror_mode": {
    "name": "ipython",
    "version": 3
   },
   "file_extension": ".py",
   "mimetype": "text/x-python",
   "name": "python",
   "nbconvert_exporter": "python",
   "pygments_lexer": "ipython3",
   "version": "3.7.4"
  }
 },
 "nbformat": 4,
 "nbformat_minor": 4
}
